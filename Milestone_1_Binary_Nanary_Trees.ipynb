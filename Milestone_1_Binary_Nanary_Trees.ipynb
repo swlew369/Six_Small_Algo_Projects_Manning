{
 "cells": [
  {
   "cell_type": "markdown",
   "metadata": {},
   "source": [
    "if self.left_child == None and self.right_child == None:\n",
    "            return str(self.value) + ':'\n",
    "        elif self.left_child != None and self.right_child == None:\n",
    "            return str(self.value) + ': '+ str(self.left_child) \n",
    "        elif self.left_child == None and self.right_child != None:\n",
    "            return str(self.value) + ': '+ str(self.right_child)\n",
    "        else:"
   ]
  },
  {
   "cell_type": "code",
   "execution_count": 1,
   "metadata": {},
   "outputs": [],
   "source": [
    "class BinaryNode:\n",
    "    \n",
    "    def __init__(self,value):\n",
    "        self.value = value\n",
    "        self.left_child = None\n",
    "        self.right_child = None\n",
    "        self.children = [None,None]\n",
    "    def add_left(self,x):\n",
    "        self.left_child = x\n",
    "        self.children[0] = x.value\n",
    "        \n",
    "    def add_right(self,y):\n",
    "        self.right_child = y #BinaryNode(y)\n",
    "        self.children[1] = y.value\n",
    "        \n",
    "    def __str__(self):\n",
    "        \n",
    "        return str(self.value) + ': '+ ' '.join(map(str,self.children))\n",
    "      "
   ]
  },
  {
   "cell_type": "code",
   "execution_count": 2,
   "metadata": {},
   "outputs": [],
   "source": [
    "class NanaryNode:\n",
    "    \n",
    "    def __init__(self,value):\n",
    "        self.value = value\n",
    "        self.children = []\n",
    "        \n",
    "    def add_child(self,x):\n",
    "        self.children.append(x.value)\n",
    "        \n",
    "    def __str__(self):\n",
    "        \n",
    "        return str(self.value) + ': '+ ' '.join(map(str, self.children))\n",
    "        "
   ]
  },
  {
   "cell_type": "code",
   "execution_count": 3,
   "metadata": {},
   "outputs": [
    {
     "name": "stdout",
     "output_type": "stream",
     "text": [
      "Root\n"
     ]
    }
   ],
   "source": [
    "root = BinaryNode('Root')\n",
    "\n",
    "print(root.value)"
   ]
  },
  {
   "cell_type": "code",
   "execution_count": 4,
   "metadata": {},
   "outputs": [],
   "source": [
    "A = BinaryNode('A')\n",
    "\n",
    "B = BinaryNode('B')\n",
    "\n",
    "C = BinaryNode('C')\n",
    "\n",
    "D = BinaryNode('D')\n",
    "\n",
    "E = BinaryNode('E')\n",
    "\n",
    "F = BinaryNode('F')"
   ]
  },
  {
   "cell_type": "code",
   "execution_count": 5,
   "metadata": {},
   "outputs": [],
   "source": [
    "root.add_left(A)\n",
    "\n",
    "root.add_right(B)"
   ]
  },
  {
   "cell_type": "code",
   "execution_count": 6,
   "metadata": {},
   "outputs": [],
   "source": [
    "A.add_left(C)\n",
    "\n",
    "A.add_right(D)"
   ]
  },
  {
   "cell_type": "code",
   "execution_count": 7,
   "metadata": {},
   "outputs": [],
   "source": [
    "B.add_right(E)\n",
    "\n",
    "E.add_left(F)"
   ]
  },
  {
   "cell_type": "code",
   "execution_count": 8,
   "metadata": {},
   "outputs": [
    {
     "name": "stdout",
     "output_type": "stream",
     "text": [
      "Root: A B\n"
     ]
    }
   ],
   "source": [
    "print(root.__str__())"
   ]
  },
  {
   "cell_type": "code",
   "execution_count": 9,
   "metadata": {},
   "outputs": [
    {
     "name": "stdout",
     "output_type": "stream",
     "text": [
      "Root: A B\n",
      "A: C D\n",
      "B: None E\n",
      "C: None None\n",
      "D: None None\n",
      "E: F None\n",
      "F: None None\n"
     ]
    }
   ],
   "source": [
    "# verify tree structure with print statements and __str__()\n",
    "print(root.__str__())\n",
    "print(A.__str__())\n",
    "print(B.__str__())\n",
    "print(C.__str__())\n",
    "print(D.__str__())\n",
    "print(E.__str__())\n",
    "print(F.__str__())"
   ]
  },
  {
   "cell_type": "code",
   "execution_count": null,
   "metadata": {},
   "outputs": [],
   "source": []
  },
  {
   "cell_type": "code",
   "execution_count": 10,
   "metadata": {},
   "outputs": [
    {
     "name": "stdout",
     "output_type": "stream",
     "text": [
      "Root: \n"
     ]
    }
   ],
   "source": [
    "Nana = NanaryNode('Root')\n",
    "\n",
    "print(Nana.__str__())"
   ]
  },
  {
   "cell_type": "code",
   "execution_count": 11,
   "metadata": {},
   "outputs": [],
   "source": [
    "U_A = NanaryNode('A')\n",
    "U_B = NanaryNode('B')\n",
    "U_C = NanaryNode('C')\n",
    "U_D = NanaryNode('D')\n",
    "U_E = NanaryNode('E')\n",
    "U_F = NanaryNode('F')\n",
    "U_G = NanaryNode('G')\n",
    "U_H = NanaryNode('H')\n",
    "U_I = NanaryNode('I')"
   ]
  },
  {
   "cell_type": "code",
   "execution_count": 12,
   "metadata": {},
   "outputs": [],
   "source": [
    "Nana.add_child(U_A)\n",
    "Nana.add_child(U_B)\n",
    "Nana.add_child(U_C)\n",
    "\n",
    "U_A.add_child(U_D)\n",
    "U_A.add_child(U_E)\n",
    "\n",
    "U_C.add_child(U_F)\n",
    "\n",
    "U_D.add_child(U_G)\n",
    "\n",
    "U_F.add_child(U_H)\n",
    "U_F.add_child(U_I)"
   ]
  },
  {
   "cell_type": "code",
   "execution_count": 13,
   "metadata": {},
   "outputs": [
    {
     "name": "stdout",
     "output_type": "stream",
     "text": [
      "Root: A B C\n",
      "A: D E\n",
      "B: \n",
      "C: F\n",
      "D: G\n",
      "E: \n",
      "F: H I\n",
      "G: \n",
      "H: \n",
      "I: \n"
     ]
    }
   ],
   "source": [
    "# verify tree structure with print statements and __str__()\n",
    "print(Nana.__str__())\n",
    "print(U_A.__str__())\n",
    "print(U_B.__str__())\n",
    "print(U_C.__str__())\n",
    "print(U_D.__str__())\n",
    "print(U_E.__str__())\n",
    "print(U_F.__str__())\n",
    "print(U_G.__str__())\n",
    "print(U_H.__str__())\n",
    "print(U_I.__str__())"
   ]
  },
  {
   "cell_type": "code",
   "execution_count": null,
   "metadata": {},
   "outputs": [],
   "source": []
  }
 ],
 "metadata": {
  "kernelspec": {
   "display_name": "Python 3",
   "language": "python",
   "name": "python3"
  },
  "language_info": {
   "codemirror_mode": {
    "name": "ipython",
    "version": 3
   },
   "file_extension": ".py",
   "mimetype": "text/x-python",
   "name": "python",
   "nbconvert_exporter": "python",
   "pygments_lexer": "ipython3",
   "version": "3.6.10"
  }
 },
 "nbformat": 4,
 "nbformat_minor": 4
}
