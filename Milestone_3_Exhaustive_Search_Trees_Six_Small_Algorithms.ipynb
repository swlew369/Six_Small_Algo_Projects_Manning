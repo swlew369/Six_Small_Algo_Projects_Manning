{
 "cells": [
  {
   "cell_type": "markdown",
   "metadata": {},
   "source": [
    "## Manning Six Small Algorithms: Binary and N-ary Trees Milestone 3\n"
   ]
  },
  {
   "cell_type": "code",
   "execution_count": 1,
   "metadata": {},
   "outputs": [],
   "source": [
    "class BinaryNode:\n",
    "    \n",
    "    def __init__(self,value):\n",
    "        self.value = value\n",
    "        self.left_child = None\n",
    "        self.right_child = None\n",
    "        self.children = ['None','None']\n",
    "        #self.indent = '**'\n",
    "        self.indent = '  '\n",
    "        self.level = 0\n",
    "        \n",
    "    def add_left(self,x):\n",
    "        self.left_child = x\n",
    "        self.children[0] = x.value\n",
    "        x.level = self.level + 1\n",
    "        \n",
    "    def add_right(self,y):\n",
    "        self.right_child = y #BinaryNode(y)\n",
    "        self.children[1] = y.value\n",
    "        y.level = self.level + 1\n",
    "        \n",
    "    def __str__(self,answer_list=None):\n",
    "        \n",
    "        # create a new list if answer_list == None, i.e. no list passed as argument\n",
    "        if answer_list == None:\n",
    "            answer_list = []\n",
    "\n",
    "        if isinstance(self, BinaryNode):\n",
    "            str1 = (self.level *'  ' + str(self.value)+':')\n",
    "            answer_list.append(str1)\n",
    "       \n",
    "        \n",
    "        # base case for recursion: childless node\n",
    "        if (self.left_child == None) and (self.right_child == None):\n",
    "            pass\n",
    "\n",
    "        # transverse the binary tree through the left branch/child first\n",
    "        # recursive call of function, be sure to pass answer_list as argument to\n",
    "        # avoid recreating empty list, answer_list\n",
    "        if (self.left_child != None):\n",
    "            self.left_child.__str__(answer_list)\n",
    "        \n",
    "        # append 'None' to indicate left child is None when right_child exists\n",
    "        if (self.left_child == None) and (self.right_child != None):\n",
    "            str2 = self.right_child.level *'  ' +'None'\n",
    "            answer_list.append(str2)\n",
    "    \n",
    "        if (self.right_child != None):\n",
    "            self.right_child.__str__(answer_list)\n",
    "        \n",
    "        # append 'None' to indicate rightt child is None when left_child exists\n",
    "        if (self.left_child != None) and (self.right_child == None):\n",
    "            str2 = self.left_child.level *'  ' +'None'\n",
    "            answer_list.append(str2)\n",
    "\n",
    "        # join the strings in answer_list into one multiline string with \\n\n",
    "        answer = '\\n'.join(answer_list)\n",
    "\n",
    "        return answer\n",
    "         \n",
    "        \n",
    "    def find_node(root_node,value):\n",
    "        \"\"\"Searches for node in a binary tree with a value\"\"\"\n",
    "        # use __str__() method to create a string that represents the tree\n",
    "        tree = root_node.__str__()\n",
    "\n",
    "        if value not in tree:\n",
    "            print('Value ' + str(value) + ' not found')\n",
    "\n",
    "        else:\n",
    "            print('Found ' + str(value))\n",
    "            "
   ]
  },
  {
   "cell_type": "code",
   "execution_count": 2,
   "metadata": {},
   "outputs": [],
   "source": [
    "class NanaryNode:\n",
    "    \n",
    "    def __init__(self,value):\n",
    "        self.value = value\n",
    "        self.children = []\n",
    "        self.indent = '  '\n",
    "        self.level = 0\n",
    "        \n",
    "    def add_child(self,x):\n",
    "        self.children.append(x)\n",
    "        x.level = self.level + 1\n",
    "        \n",
    "    def __str__(self,answer_list):\n",
    "        \n",
    "        # create a new list if answer_list == None, i.e. no list passed as argument\n",
    "        if answer_list == None:\n",
    "            answer_list = []\n",
    "            \n",
    "        # append node value to answer_list as a string with ':'\n",
    "        answer_list.append(self.level *'  ' + str(self.value)+':')\n",
    "        \n",
    "        if len(self.children) == 0:\n",
    "            pass\n",
    "        \n",
    "        if len(self.children) > 0:\n",
    "            for child in self.children:\n",
    "                child.__str__(answer_list)\n",
    "        \n",
    "        # join the strings in answer_list into one multiline string with \\n\n",
    "        answer = '\\n'.join(answer_list)\n",
    "\n",
    "        return answer\n",
    "    \n",
    "    def find_node(root_node,value):\n",
    "        \"\"\"Searches for node in a nanary tree with a value\"\"\"\n",
    "        # use __str__() method to create a string that represents the tree\n",
    "        tree = root_node.__str__(None)\n",
    "   \n",
    "        if value not in tree:\n",
    "            print('Value ' + str(value) + ' not found')\n",
    "        \n",
    "        else:\n",
    "            print('Found ' + str(value))\n",
    "        "
   ]
  },
  {
   "cell_type": "markdown",
   "metadata": {},
   "source": [
    "## BinaryNode"
   ]
  },
  {
   "cell_type": "code",
   "execution_count": 3,
   "metadata": {},
   "outputs": [],
   "source": [
    "def find_value_binary(root_node,value):\n",
    "    \"\"\"Searches for node in a binary tree with a value\"\"\"\n",
    "    # use __str__() method to create a string that represents the tree\n",
    "    tree = root_node.__str__()\n",
    "    \n",
    "    if value not in tree:\n",
    "        print('Value ' + str(value) + ' not found')\n",
    "        \n",
    "    else:\n",
    "        print('Found ' + str(value))\n",
    "    "
   ]
  },
  {
   "cell_type": "code",
   "execution_count": null,
   "metadata": {},
   "outputs": [],
   "source": []
  },
  {
   "cell_type": "code",
   "execution_count": 4,
   "metadata": {},
   "outputs": [
    {
     "name": "stdout",
     "output_type": "stream",
     "text": [
      "Root\n"
     ]
    }
   ],
   "source": [
    "root = BinaryNode('Root')\n",
    "\n",
    "print(root.value)"
   ]
  },
  {
   "cell_type": "code",
   "execution_count": 5,
   "metadata": {},
   "outputs": [
    {
     "name": "stdout",
     "output_type": "stream",
     "text": [
      "Value Q not found\n"
     ]
    }
   ],
   "source": [
    "find_value_binary(root,'Q')"
   ]
  },
  {
   "cell_type": "code",
   "execution_count": 6,
   "metadata": {},
   "outputs": [
    {
     "name": "stdout",
     "output_type": "stream",
     "text": [
      "Value C not found\n"
     ]
    }
   ],
   "source": [
    "# search for 'C' valued node before adding that node to binary tree\n",
    "find_value_binary(root,'C')"
   ]
  },
  {
   "cell_type": "code",
   "execution_count": 7,
   "metadata": {},
   "outputs": [],
   "source": [
    "A = BinaryNode('A')\n",
    "\n",
    "B = BinaryNode('B')\n",
    "\n",
    "C = BinaryNode('C')\n",
    "\n",
    "D = BinaryNode('D')\n",
    "\n",
    "E = BinaryNode('E')\n",
    "\n",
    "F = BinaryNode('F')"
   ]
  },
  {
   "cell_type": "code",
   "execution_count": 8,
   "metadata": {},
   "outputs": [],
   "source": [
    "root.add_left(A)\n",
    "\n",
    "root.add_right(B)"
   ]
  },
  {
   "cell_type": "code",
   "execution_count": 9,
   "metadata": {},
   "outputs": [],
   "source": [
    "A.add_left(C)\n",
    "\n",
    "A.add_right(D)"
   ]
  },
  {
   "cell_type": "code",
   "execution_count": 10,
   "metadata": {},
   "outputs": [],
   "source": [
    "B.add_right(E)\n",
    "\n",
    "E.add_left(F)"
   ]
  },
  {
   "cell_type": "markdown",
   "metadata": {},
   "source": [
    "## verify tree structure with print & __str__( ) for Binary Tree"
   ]
  },
  {
   "cell_type": "code",
   "execution_count": 11,
   "metadata": {},
   "outputs": [
    {
     "name": "stdout",
     "output_type": "stream",
     "text": [
      "Root:\n",
      "  A:\n",
      "    C:\n",
      "    D:\n",
      "  B:\n",
      "    None\n",
      "    E:\n",
      "      F:\n",
      "      None\n"
     ]
    }
   ],
   "source": [
    "print(root.__str__())"
   ]
  },
  {
   "cell_type": "code",
   "execution_count": 12,
   "metadata": {},
   "outputs": [
    {
     "name": "stdout",
     "output_type": "stream",
     "text": [
      "Found Root\n",
      "Found E\n",
      "Found F\n",
      "Value Q not found\n",
      "Found F\n"
     ]
    }
   ],
   "source": [
    "# Find some values. Verify results\n",
    "find_value_binary(root, 'Root')\n",
    "find_value_binary(root, 'E')\n",
    "find_value_binary(root, 'F')\n",
    "find_value_binary(root, 'Q')\n",
    "\n",
    "# Find F in the B subtree.\n",
    "find_value_binary(B, 'F')"
   ]
  },
  {
   "cell_type": "markdown",
   "metadata": {},
   "source": [
    "## Nanary Tree"
   ]
  },
  {
   "cell_type": "code",
   "execution_count": 13,
   "metadata": {},
   "outputs": [],
   "source": [
    "def find_value_nanary(root_node,value):\n",
    "    \"\"\"Searches for node in a nanary tree with a value\"\"\"\n",
    "    # use __str__() method to create a string that represents the tree\n",
    "    tree = root_node.__str__(None)\n",
    "   \n",
    "    if value not in tree:\n",
    "        print('Value ' + str(value) + ' not found')\n",
    "        \n",
    "    else:\n",
    "        print('Found ' + str(value))\n",
    "    "
   ]
  },
  {
   "cell_type": "code",
   "execution_count": 14,
   "metadata": {},
   "outputs": [],
   "source": [
    "Nana = NanaryNode('Root')\n",
    "\n",
    "U_A = NanaryNode('A')\n",
    "U_B = NanaryNode('B')\n",
    "U_C = NanaryNode('C')\n",
    "U_D = NanaryNode('D')\n",
    "U_E = NanaryNode('E')\n",
    "U_F = NanaryNode('F')\n",
    "U_G = NanaryNode('G')\n",
    "U_H = NanaryNode('H')\n",
    "U_I = NanaryNode('I')"
   ]
  },
  {
   "cell_type": "code",
   "execution_count": 15,
   "metadata": {},
   "outputs": [],
   "source": [
    "Nana.add_child(U_A)\n",
    "Nana.add_child(U_B)\n",
    "Nana.add_child(U_C)\n",
    "\n",
    "U_A.add_child(U_D)\n",
    "U_A.add_child(U_E)\n",
    "\n",
    "U_C.add_child(U_F)\n",
    "\n",
    "U_D.add_child(U_G)\n",
    "\n",
    "U_F.add_child(U_H)\n",
    "U_F.add_child(U_I)"
   ]
  },
  {
   "cell_type": "markdown",
   "metadata": {},
   "source": [
    "## verify tree structure with print & __str__( ) for Nanary Tree"
   ]
  },
  {
   "cell_type": "code",
   "execution_count": 16,
   "metadata": {},
   "outputs": [
    {
     "name": "stdout",
     "output_type": "stream",
     "text": [
      "Root:\n",
      "  A:\n",
      "    D:\n",
      "      G:\n",
      "    E:\n",
      "  B:\n",
      "  C:\n",
      "    F:\n",
      "      H:\n",
      "      I:\n"
     ]
    }
   ],
   "source": [
    "print(Nana.__str__(None))"
   ]
  },
  {
   "cell_type": "code",
   "execution_count": 17,
   "metadata": {},
   "outputs": [
    {
     "name": "stdout",
     "output_type": "stream",
     "text": [
      "  A:\n",
      "    D:\n",
      "      G:\n",
      "    E:\n"
     ]
    }
   ],
   "source": [
    "print(U_A.__str__(None))"
   ]
  },
  {
   "cell_type": "code",
   "execution_count": 18,
   "metadata": {},
   "outputs": [
    {
     "name": "stdout",
     "output_type": "stream",
     "text": [
      "Found Root\n",
      "Found E\n",
      "Found F\n",
      "Value Q not found\n",
      "Found F\n"
     ]
    }
   ],
   "source": [
    "# Find some values.Verify results\n",
    "find_value_nanary(Nana, 'Root')\n",
    "find_value_nanary(Nana, 'E')\n",
    "find_value_nanary(Nana, 'F')\n",
    "find_value_nanary(Nana, 'Q')\n",
    "\n",
    "# Find F in the C subtree.\n",
    "find_value_nanary(U_C, 'F')"
   ]
  }
 ],
 "metadata": {
  "kernelspec": {
   "display_name": "Python 3",
   "language": "python",
   "name": "python3"
  },
  "language_info": {
   "codemirror_mode": {
    "name": "ipython",
    "version": 3
   },
   "file_extension": ".py",
   "mimetype": "text/x-python",
   "name": "python",
   "nbconvert_exporter": "python",
   "pygments_lexer": "ipython3",
   "version": "3.6.10"
  }
 },
 "nbformat": 4,
 "nbformat_minor": 4
}
