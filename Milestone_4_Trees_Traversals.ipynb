{
 "cells": [
  {
   "cell_type": "markdown",
   "metadata": {},
   "source": [
    "## Manning Six Small Algorithms: Binary and N-ary Trees Milestone 3\n"
   ]
  },
  {
   "cell_type": "markdown",
   "metadata": {},
   "source": [
    "## class BinaryNode"
   ]
  },
  {
   "cell_type": "code",
   "execution_count": 1,
   "metadata": {},
   "outputs": [],
   "source": [
    "class BinaryNode:\n",
    "    \n",
    "    def __init__(self,value):\n",
    "        self.value = value\n",
    "        self.left_child = None\n",
    "        self.right_child = None\n",
    "        self.children = ['None','None']\n",
    "        #self.indent = '**'\n",
    "        self.indent = '  '\n",
    "        self.level = 0\n",
    "        \n",
    "    def add_left(self,x):\n",
    "        self.left_child = x\n",
    "        self.children[0] = x.value\n",
    "        x.level = self.level + 1\n",
    "        \n",
    "    def add_right(self,y):\n",
    "        self.right_child = y #BinaryNode(y)\n",
    "        self.children[1] = y.value\n",
    "        y.level = self.level + 1\n",
    "        \n",
    "    def __str__(self,answer_list=None):\n",
    "        \n",
    "        # create a new list if answer_list == None, i.e. no list passed as argument\n",
    "        if answer_list == None:\n",
    "            answer_list = []\n",
    "\n",
    "        if isinstance(self, BinaryNode):\n",
    "            str1 = (self.level *'  ' + str(self.value)+':')\n",
    "            answer_list.append(str1)\n",
    "       \n",
    "        \n",
    "        # base case for recursion: childless node\n",
    "        if (self.left_child == None) and (self.right_child == None):\n",
    "            pass\n",
    "\n",
    "        # transverse the binary tree through the left branch/child first\n",
    "        # recursive call of function, be sure to pass answer_list as argument to\n",
    "        # avoid recreating empty list, answer_list\n",
    "        if (self.left_child != None):\n",
    "            self.left_child.__str__(answer_list)\n",
    "        \n",
    "        # append 'None' to indicate left child is None when right_child exists\n",
    "        if (self.left_child == None) and (self.right_child != None):\n",
    "            str2 = self.right_child.level *'  ' +'None'\n",
    "            answer_list.append(str2)\n",
    "    \n",
    "        if (self.right_child != None):\n",
    "            self.right_child.__str__(answer_list)\n",
    "        \n",
    "        # append 'None' to indicate rightt child is None when left_child exists\n",
    "        if (self.left_child != None) and (self.right_child == None):\n",
    "            str2 = self.left_child.level *'  ' +'None'\n",
    "            answer_list.append(str2)\n",
    "\n",
    "        # join the strings in answer_list into one multiline string with \\n\n",
    "        answer = '\\n'.join(answer_list)\n",
    "\n",
    "        return answer\n",
    "         \n",
    "        \n",
    "    def find_node(root_node,value):\n",
    "        \"\"\"Searches for node in a binary tree with a value\"\"\"\n",
    "        # use __str__() method to create a string that represents the tree\n",
    "        tree = root_node.__str__()\n",
    "\n",
    "        if value not in tree:\n",
    "            print('Value ' + str(value) + ' not found')\n",
    "\n",
    "        else:\n",
    "            print('Found ' + str(value))\n",
    "            \n",
    "    def traverse_preorder(self,answer_list=None):\n",
    "    \n",
    "    # create a new list if answer_list == None, i.e. no list passed as argument\n",
    "        if answer_list == None:\n",
    "            answer_list = []\n",
    "\n",
    "        if isinstance(self, BinaryNode):\n",
    "\n",
    "            answer_list.append(str(self.value))\n",
    "\n",
    "        \n",
    "        # base case for recursion: childless node\n",
    "        if (self.left_child == None) and (self.right_child == None):\n",
    "            pass\n",
    "\n",
    "        # transverse the binary tree through the left branch/child first\n",
    "        # recursive call of function, be sure to pass answer_list as argument to\n",
    "        # avoid recreating empty list, answer_list\n",
    "        if (self.left_child != None):\n",
    "            traverse_preorder(self.left_child,answer_list)\n",
    "          \n",
    "        if (self.right_child != None):\n",
    "            traverse_preorder(self.right_child,answer_list)\n",
    "\n",
    "        # join the strings in answer_list into one multiline string with whitespace\n",
    "        answer = ' '.join(answer_list)\n",
    "\n",
    "        return answer\n",
    "            \n",
    "    def traverse_inorder(self,answer_list=None):\n",
    "    \n",
    "        # create a new list if answer_list == None, i.e. no list passed as argument\n",
    "        if answer_list == None:\n",
    "            answer_list = []\n",
    "\n",
    "        if (self.left_child != None):\n",
    "            # recursively call function if left child exists\n",
    "            self.left_child.traverse_inorder(answer_list)\n",
    "\n",
    "        if isinstance(self, BinaryNode):\n",
    "            answer_list.append(str(self.value))\n",
    "\n",
    "        if (self.right_child != None):\n",
    "            # recursively call function if right child exists\n",
    "            self.right_child.traverse_inorder(answer_list)\n",
    "\n",
    "        # join the strings in answer_list into one multiline string with whitespace\n",
    "        answer = ' '.join(answer_list)\n",
    "\n",
    "        return answer\n",
    "    \n",
    "    def traverse_postorder(self,answer_list=None):\n",
    "    \n",
    "        # create a new list if answer_list == None, i.e. no list passed as argument\n",
    "        if answer_list == None:\n",
    "            answer_list = []\n",
    "\n",
    "        if (self.left_child != None):\n",
    "            # recursively call function if left child exists\n",
    "            self.left_child.traverse_postorder(answer_list)      \n",
    "\n",
    "        if (self.right_child != None):\n",
    "            # recursively call function if right child exists\n",
    "            self.right_child.traverse_postorder(answer_list)\n",
    "\n",
    "        if isinstance(self, BinaryNode):\n",
    "            answer_list.append(str(self.value))\n",
    "\n",
    "        # join the strings in answer_list into one multiline string with whitespace\n",
    "        answer = ' '.join(answer_list)\n",
    "\n",
    "        return answer\n",
    "    \n",
    "    def transverse_breadth_first(self):\n",
    "    \n",
    "        queue = []\n",
    "        visited = []\n",
    "        queue.append(self)\n",
    "\n",
    "        while len(queue) > 0:\n",
    "\n",
    "            cur_node = queue.pop(0)\n",
    "            visited.append(cur_node)\n",
    "            if cur_node.left_child is not None:\n",
    "                queue.append(cur_node.left_child)\n",
    "\n",
    "            if cur_node.right_child is not None:\n",
    "                queue.append(cur_node.right_child)\n",
    "\n",
    "        nodes = [item.value for item in visited]\n",
    "        \n",
    "        return ' '.join(nodes)\n",
    "        "
   ]
  },
  {
   "cell_type": "code",
   "execution_count": null,
   "metadata": {},
   "outputs": [],
   "source": []
  },
  {
   "cell_type": "code",
   "execution_count": 2,
   "metadata": {},
   "outputs": [],
   "source": [
    "# Note code below works for BinaryNode, but NOT for NanaryNode class\n",
    "# need to modify code for transverse_preorder method for NanaryNode\n",
    "def traverse_preorder_binary(root_node,answer_list=None):\n",
    "    \n",
    "    # create a new list if answer_list == None, i.e. no list passed as argument\n",
    "        if answer_list == None:\n",
    "            answer_list = []\n",
    "\n",
    "        if isinstance(root_node, BinaryNode):\n",
    "\n",
    "            answer_list.append(str(root_node.value))\n",
    "\n",
    "        \n",
    "        # base case for recursion: childless node\n",
    "        if (root_node.left_child == None) and (root_node.right_child == None):\n",
    "            pass\n",
    "\n",
    "        # transverse the binary tree through the left branch/child first\n",
    "        # recursive call of function, be sure to pass answer_list as argument to\n",
    "        # avoid recreating empty list, answer_list\n",
    "        if (root_node.left_child != None):\n",
    "            traverse_preorder_binary(root_node.left_child,answer_list)\n",
    "          \n",
    "        if (root_node.right_child != None):\n",
    "            traverse_preorder_binary(root_node.right_child,answer_list)\n",
    "\n",
    "        # join the strings in answer_list into one multiline string with whitespace\n",
    "        answer = ' '.join(answer_list)\n",
    "\n",
    "        return answer\n",
    "    "
   ]
  },
  {
   "cell_type": "code",
   "execution_count": null,
   "metadata": {},
   "outputs": [],
   "source": []
  },
  {
   "cell_type": "markdown",
   "metadata": {},
   "source": [
    "## class NanaryNode"
   ]
  },
  {
   "cell_type": "code",
   "execution_count": 3,
   "metadata": {},
   "outputs": [],
   "source": [
    "class NanaryNode:\n",
    "    \n",
    "    def __init__(self,value):\n",
    "        self.value = value\n",
    "        self.children = []\n",
    "        self.indent = '  '\n",
    "        self.level = 0\n",
    "        \n",
    "    def add_child(self,x):\n",
    "        self.children.append(x)\n",
    "        x.level = self.level + 1\n",
    "        \n",
    "    def __str__(self,answer_list):\n",
    "        \n",
    "        # create a new list if answer_list == None, i.e. no list passed as argument\n",
    "        if answer_list == None:\n",
    "            answer_list = []\n",
    "            \n",
    "        # append node value to answer_list as a string with ':'\n",
    "        answer_list.append(self.level *'  ' + str(self.value)+':')\n",
    "        \n",
    "        if len(self.children) == 0:\n",
    "            pass\n",
    "        \n",
    "        if len(self.children) > 0:\n",
    "            for child in self.children:\n",
    "                child.__str__(answer_list)\n",
    "        \n",
    "        # join the strings in answer_list into one multiline string with \\n\n",
    "        answer = '\\n'.join(answer_list)\n",
    "\n",
    "        return answer\n",
    "    \n",
    "    def find_node(root_node,value):\n",
    "        \"\"\"Searches for node in a nanary tree with a value\"\"\"\n",
    "        # use __str__() method to create a string that represents the tree\n",
    "        tree = root_node.__str__(None)\n",
    "   \n",
    "        if value not in tree:\n",
    "            print('Value ' + str(value) + ' not found')\n",
    "        \n",
    "        else:\n",
    "            print('Found ' + str(value))\n",
    "            \n",
    "    def traverse_preorder(self,answer_list=None):\n",
    "    \n",
    "    # create a new list if answer_list == None, i.e. no list passed as argument\n",
    "        if answer_list == None:\n",
    "            answer_list = []\n",
    "\n",
    "        if isinstance(self, NanaryNode):\n",
    "\n",
    "            answer_list.append(str(self.value))\n",
    "\n",
    "        \n",
    "        # base case for recursion: childless node\n",
    "        if len(self.children) == 0:\n",
    "            pass\n",
    "\n",
    "        # transverse the nanary tree through the left branch/child first\n",
    "        # recursive call of function, be sure to pass answer_list as argument to\n",
    "        # avoid recreating empty list, answer_list\n",
    "        if len(self.children) > 0:\n",
    "            for child in self.children:\n",
    "                child.traverse_preorder(answer_list)\n",
    "          \n",
    "        # join the strings in answer_list into one multiline string with whitespace\n",
    "        answer = ' '.join(answer_list)\n",
    "\n",
    "        return answer\n",
    "    \n",
    "    def traverse_postorder(self,answer_list=None):\n",
    "    \n",
    "        # create a new list if answer_list == None, i.e. no list passed as argument\n",
    "        if answer_list == None:\n",
    "            answer_list = []\n",
    "\n",
    "        if len(self.children) > 0:\n",
    "                for child in self.children:\n",
    "                    child.traverse_postorder(answer_list)               \n",
    "\n",
    "        if isinstance(self, NanaryNode):\n",
    "            answer_list.append(str(self.value))\n",
    "\n",
    "        # join the strings in answer_list into one multiline string with whitespace\n",
    "        answer = ' '.join(answer_list)\n",
    "\n",
    "        return answer\n",
    "\n",
    "    def transverse_breadth_first(self):\n",
    "    \n",
    "        queue = []\n",
    "        visited = []\n",
    "        queue.append(self)\n",
    "\n",
    "        while len(queue) > 0:\n",
    "\n",
    "            cur_node = queue.pop(0)\n",
    "            visited.append(cur_node)\n",
    "            if len(cur_node.children)>0:\n",
    "                queue.extend(cur_node.children)\n",
    "\n",
    "        nodes = [item.value for item in visited]\n",
    "        return ' '.join(nodes)\n",
    "        "
   ]
  },
  {
   "cell_type": "code",
   "execution_count": null,
   "metadata": {},
   "outputs": [],
   "source": []
  },
  {
   "cell_type": "markdown",
   "metadata": {},
   "source": [
    "## BinaryNode"
   ]
  },
  {
   "cell_type": "code",
   "execution_count": 4,
   "metadata": {},
   "outputs": [],
   "source": [
    "def find_value_binary(root_node,value):\n",
    "    \"\"\"Searches for node in a binary tree with a value\"\"\"\n",
    "    # use __str__() method to create a string that represents the tree\n",
    "    tree = root_node.__str__()\n",
    "    \n",
    "    if value not in tree:\n",
    "        print('Value ' + str(value) + ' not found')\n",
    "        \n",
    "    else:\n",
    "        print('Found ' + str(value))\n",
    "    "
   ]
  },
  {
   "cell_type": "markdown",
   "metadata": {},
   "source": [
    "## Create BinaryNode Tree"
   ]
  },
  {
   "cell_type": "code",
   "execution_count": 5,
   "metadata": {},
   "outputs": [
    {
     "name": "stdout",
     "output_type": "stream",
     "text": [
      "Root\n"
     ]
    }
   ],
   "source": [
    "root = BinaryNode('Root')\n",
    "\n",
    "print(root.value)"
   ]
  },
  {
   "cell_type": "code",
   "execution_count": 6,
   "metadata": {},
   "outputs": [
    {
     "name": "stdout",
     "output_type": "stream",
     "text": [
      "Value Q not found\n"
     ]
    }
   ],
   "source": [
    "find_value_binary(root,'Q')"
   ]
  },
  {
   "cell_type": "code",
   "execution_count": 7,
   "metadata": {},
   "outputs": [
    {
     "name": "stdout",
     "output_type": "stream",
     "text": [
      "Value C not found\n"
     ]
    }
   ],
   "source": [
    "# search for 'C' valued node before adding that node to binary tree\n",
    "find_value_binary(root,'C')"
   ]
  },
  {
   "cell_type": "code",
   "execution_count": 8,
   "metadata": {},
   "outputs": [],
   "source": [
    "A = BinaryNode('A')\n",
    "\n",
    "B = BinaryNode('B')\n",
    "\n",
    "C = BinaryNode('C')\n",
    "\n",
    "D = BinaryNode('D')\n",
    "\n",
    "E = BinaryNode('E')\n",
    "\n",
    "F = BinaryNode('F')"
   ]
  },
  {
   "cell_type": "code",
   "execution_count": 9,
   "metadata": {},
   "outputs": [],
   "source": [
    "root.add_left(A)\n",
    "\n",
    "root.add_right(B)"
   ]
  },
  {
   "cell_type": "code",
   "execution_count": 10,
   "metadata": {},
   "outputs": [],
   "source": [
    "A.add_left(C)\n",
    "\n",
    "A.add_right(D)"
   ]
  },
  {
   "cell_type": "code",
   "execution_count": 11,
   "metadata": {},
   "outputs": [],
   "source": [
    "B.add_right(E)\n",
    "\n",
    "E.add_left(F)"
   ]
  },
  {
   "cell_type": "markdown",
   "metadata": {},
   "source": [
    "## verify tree structure with print & __str__( ) for Binary Tree"
   ]
  },
  {
   "cell_type": "code",
   "execution_count": 12,
   "metadata": {},
   "outputs": [
    {
     "name": "stdout",
     "output_type": "stream",
     "text": [
      "Root:\n",
      "  A:\n",
      "    C:\n",
      "    D:\n",
      "  B:\n",
      "    None\n",
      "    E:\n",
      "      F:\n",
      "      None\n"
     ]
    }
   ],
   "source": [
    "print(root.__str__())"
   ]
  },
  {
   "cell_type": "code",
   "execution_count": 13,
   "metadata": {},
   "outputs": [
    {
     "name": "stdout",
     "output_type": "stream",
     "text": [
      "Root A C D B E F\n"
     ]
    }
   ],
   "source": [
    "# verify function defined for traverse_preorder for BinaryNode works using root node\n",
    "print(traverse_preorder_binary(root))"
   ]
  },
  {
   "cell_type": "markdown",
   "metadata": {},
   "source": [
    "## traverse_inorder: Visit the node’s left child, then the node, and then its right child."
   ]
  },
  {
   "cell_type": "code",
   "execution_count": 14,
   "metadata": {},
   "outputs": [],
   "source": [
    "def traverse_inorder_binary(root_node,answer_list=None):\n",
    "    \n",
    "    # create a new list if answer_list == None, i.e. no list passed as argument\n",
    "    if answer_list == None:\n",
    "        answer_list = []\n",
    "        \n",
    "    if (root_node.left_child != None):\n",
    "        # recursively call function if left child exists\n",
    "        traverse_inorder_binary(root_node.left_child,answer_list)\n",
    "        \n",
    "    if isinstance(root_node, BinaryNode):\n",
    "        answer_list.append(str(root_node.value))\n",
    "        \n",
    "    if (root_node.right_child != None):\n",
    "        # recursively call function if right child exists\n",
    "        traverse_inorder_binary(root_node.right_child,answer_list)\n",
    "            \n",
    "    # join the strings in answer_list into one multiline string with whitespace\n",
    "    answer = ' '.join(answer_list)\n",
    "\n",
    "    return answer"
   ]
  },
  {
   "cell_type": "code",
   "execution_count": 15,
   "metadata": {},
   "outputs": [
    {
     "name": "stdout",
     "output_type": "stream",
     "text": [
      "C A D Root B F E\n"
     ]
    }
   ],
   "source": [
    "# verify function deifned above for BinaryNode works on root node\n",
    "print(traverse_inorder_binary(root,answer_list=None))"
   ]
  },
  {
   "cell_type": "code",
   "execution_count": 16,
   "metadata": {},
   "outputs": [
    {
     "name": "stdout",
     "output_type": "stream",
     "text": [
      "C A D Root B F E\n"
     ]
    }
   ],
   "source": [
    "# verify BinaryNode class method, traverse_inorder, works for root node\n",
    "print(root.traverse_inorder())"
   ]
  },
  {
   "cell_type": "markdown",
   "metadata": {},
   "source": [
    "## traverse_postorder: Visit the node’s children and then the node. "
   ]
  },
  {
   "cell_type": "code",
   "execution_count": 17,
   "metadata": {},
   "outputs": [],
   "source": [
    "def traverse_postorder_binary(root_node,answer_list=None):\n",
    "    \n",
    "    # create a new list if answer_list == None, i.e. no list passed as argument\n",
    "    if answer_list == None:\n",
    "        answer_list = []\n",
    "        \n",
    "    if (root_node.left_child != None):\n",
    "        # recursively call function if left child exists\n",
    "        traverse_postorder_binary(root_node.left_child,answer_list)      \n",
    " \n",
    "    if (root_node.right_child != None):\n",
    "        # recursively call function if right child exists\n",
    "        traverse_postorder_binary(root_node.right_child,answer_list)\n",
    "        \n",
    "    if isinstance(root_node, BinaryNode):\n",
    "        answer_list.append(str(root_node.value))\n",
    "                \n",
    "    # join the strings in answer_list into one multiline string with whitespace\n",
    "    answer = ' '.join(answer_list)\n",
    "\n",
    "    return answer"
   ]
  },
  {
   "cell_type": "code",
   "execution_count": 18,
   "metadata": {},
   "outputs": [
    {
     "name": "stdout",
     "output_type": "stream",
     "text": [
      "C D A F E B Root\n",
      "\n",
      "C D A F E B Root\n"
     ]
    }
   ],
   "source": [
    "# verify function defined above for BinaryNodes works on root node\n",
    "print(traverse_postorder_binary(root,answer_list=None))\n",
    "print()\n",
    "# verify BinaryNode class method,traverse_postorder, works for root node\n",
    "print(root.traverse_postorder())"
   ]
  },
  {
   "cell_type": "code",
   "execution_count": null,
   "metadata": {},
   "outputs": [],
   "source": []
  },
  {
   "cell_type": "markdown",
   "metadata": {},
   "source": [
    "### traverse_breadth_first: \n",
    "### Visit all of the nodes level of the tree in left-to-right order before moving down to the next level of the tree.at each "
   ]
  },
  {
   "cell_type": "markdown",
   "metadata": {},
   "source": [
    "## BFS"
   ]
  },
  {
   "cell_type": "code",
   "execution_count": 19,
   "metadata": {},
   "outputs": [],
   "source": [
    "def transverse_breadth_first_binary(root_node):\n",
    "    \n",
    "    queue = []\n",
    "    visited = []\n",
    "    queue.append(root_node)\n",
    "    \n",
    "    while len(queue) > 0:\n",
    "        \n",
    "        cur_node = queue.pop(0)\n",
    "        visited.append(cur_node)\n",
    "        if cur_node.left_child is not None:\n",
    "            queue.append(cur_node.left_child)\n",
    "\n",
    "        if cur_node.right_child is not None:\n",
    "            queue.append(cur_node.right_child)\n",
    "\n",
    "    nodes = [item.value for item in visited if item.value != None]\n",
    "    \n",
    "    answer = ' '.join(nodes)\n",
    "    return answer\n",
    "    "
   ]
  },
  {
   "cell_type": "code",
   "execution_count": 20,
   "metadata": {},
   "outputs": [
    {
     "data": {
      "text/plain": [
       "'Root A B C D E F'"
      ]
     },
     "execution_count": 20,
     "metadata": {},
     "output_type": "execute_result"
    }
   ],
   "source": [
    "# verify function works for root node\n",
    "transverse_breadth_first_binary(root)"
   ]
  },
  {
   "cell_type": "code",
   "execution_count": 21,
   "metadata": {},
   "outputs": [
    {
     "data": {
      "text/plain": [
       "'Root A B C D E F'"
      ]
     },
     "execution_count": 21,
     "metadata": {},
     "output_type": "execute_result"
    }
   ],
   "source": [
    "# verify BinaryNode class method, traverse_breadth_first, works for root node\n",
    "root.transverse_breadth_first()"
   ]
  },
  {
   "cell_type": "code",
   "execution_count": 22,
   "metadata": {},
   "outputs": [
    {
     "data": {
      "text/plain": [
       "'A C D'"
      ]
     },
     "execution_count": 22,
     "metadata": {},
     "output_type": "execute_result"
    }
   ],
   "source": [
    "transverse_breadth_first_binary(A)"
   ]
  },
  {
   "cell_type": "code",
   "execution_count": 23,
   "metadata": {},
   "outputs": [
    {
     "data": {
      "text/plain": [
       "'B E F'"
      ]
     },
     "execution_count": 23,
     "metadata": {},
     "output_type": "execute_result"
    }
   ],
   "source": [
    "transverse_breadth_first_binary(B)"
   ]
  },
  {
   "cell_type": "markdown",
   "metadata": {},
   "source": [
    "## Verify Results for Binary traverse functions"
   ]
  },
  {
   "cell_type": "code",
   "execution_count": 24,
   "metadata": {},
   "outputs": [],
   "source": [
    "# results should like like the following for root node\n",
    "# Preorder:      Root A C D B E F\n",
    "# Inorder:       C A D Root B F E\n",
    "# Postorder:     C D A F E B Root\n",
    "# Breadth-First: Root A B C D E F"
   ]
  },
  {
   "cell_type": "code",
   "execution_count": 25,
   "metadata": {},
   "outputs": [
    {
     "name": "stdout",
     "output_type": "stream",
     "text": [
      "Preorder:  Root A C D B E F\n",
      "Inorder:   C A D Root B F E\n",
      "Postorder: C D A F E B Root\n",
      "Breadth_First: Root A B C D E F\n"
     ]
    }
   ],
   "source": [
    "print('Preorder:  '+ traverse_preorder_binary(root))\n",
    "print('Inorder:   '+ traverse_inorder_binary(root))\n",
    "print('Postorder: '+ traverse_postorder_binary(root))\n",
    "print('Breadth_First: '+ transverse_breadth_first_binary(root))"
   ]
  },
  {
   "cell_type": "markdown",
   "metadata": {},
   "source": [
    "## Nanary Tree"
   ]
  },
  {
   "cell_type": "code",
   "execution_count": 26,
   "metadata": {},
   "outputs": [],
   "source": [
    "def find_value_nanary(root_node,value):\n",
    "    \"\"\"Searches for node in a nanary tree with a value\"\"\"\n",
    "    # use __str__() method to create a string that represents the tree\n",
    "    tree = root_node.__str__(None)\n",
    "   \n",
    "    if value not in tree:\n",
    "        print('Value ' + str(value) + ' not found')\n",
    "        \n",
    "    else:\n",
    "        print('Found ' + str(value))\n",
    "    "
   ]
  },
  {
   "cell_type": "markdown",
   "metadata": {},
   "source": [
    "## Create Nanary Tree"
   ]
  },
  {
   "cell_type": "code",
   "execution_count": 27,
   "metadata": {},
   "outputs": [],
   "source": [
    "Nana = NanaryNode('Root')\n",
    "\n",
    "U_A = NanaryNode('A')\n",
    "U_B = NanaryNode('B')\n",
    "U_C = NanaryNode('C')\n",
    "U_D = NanaryNode('D')\n",
    "U_E = NanaryNode('E')\n",
    "U_F = NanaryNode('F')\n",
    "U_G = NanaryNode('G')\n",
    "U_H = NanaryNode('H')\n",
    "U_I = NanaryNode('I')"
   ]
  },
  {
   "cell_type": "code",
   "execution_count": 28,
   "metadata": {},
   "outputs": [],
   "source": [
    "Nana.add_child(U_A)\n",
    "Nana.add_child(U_B)\n",
    "Nana.add_child(U_C)\n",
    "\n",
    "U_A.add_child(U_D)\n",
    "U_A.add_child(U_E)\n",
    "\n",
    "U_C.add_child(U_F)\n",
    "\n",
    "U_D.add_child(U_G)\n",
    "\n",
    "U_F.add_child(U_H)\n",
    "U_F.add_child(U_I)"
   ]
  },
  {
   "cell_type": "markdown",
   "metadata": {},
   "source": [
    "## verify tree structure with print & __str__( ) for Nanary Tree"
   ]
  },
  {
   "cell_type": "code",
   "execution_count": 29,
   "metadata": {},
   "outputs": [
    {
     "name": "stdout",
     "output_type": "stream",
     "text": [
      "Root:\n",
      "  A:\n",
      "    D:\n",
      "      G:\n",
      "    E:\n",
      "  B:\n",
      "  C:\n",
      "    F:\n",
      "      H:\n",
      "      I:\n"
     ]
    }
   ],
   "source": [
    "print(Nana.__str__(None))"
   ]
  },
  {
   "cell_type": "code",
   "execution_count": 30,
   "metadata": {},
   "outputs": [
    {
     "name": "stdout",
     "output_type": "stream",
     "text": [
      "  A:\n",
      "    D:\n",
      "      G:\n",
      "    E:\n"
     ]
    }
   ],
   "source": [
    "print(U_A.__str__(None))"
   ]
  },
  {
   "cell_type": "code",
   "execution_count": 31,
   "metadata": {},
   "outputs": [],
   "source": [
    "# transverse_preorder nanary tree\n",
    "def traverse_preorder_nanary(root_node,answer_list=None):\n",
    "    \n",
    "    # create a new list if answer_list == None, i.e. no list passed as argument\n",
    "        if answer_list == None:\n",
    "            answer_list = []\n",
    "\n",
    "        if isinstance(root_node, NanaryNode):\n",
    "\n",
    "            answer_list.append(str(root_node.value))\n",
    "\n",
    "        \n",
    "        # base case for recursion: childless node\n",
    "        if len(root_node.children) == 0:\n",
    "            pass\n",
    "\n",
    "        # transverse the nanary tree through the left branch/child first\n",
    "        # recursive call of function, be sure to pass answer_list as argument to\n",
    "        # avoid recreating empty list, answer_list\n",
    "        if len(root_node.children) > 0:\n",
    "            for child in root_node.children:\n",
    "                traverse_preorder_nanary(child,answer_list)\n",
    "          \n",
    "        # join the strings in answer_list into one multiline string with whitespace\n",
    "        answer = ' '.join(answer_list)\n",
    "\n",
    "        return answer\n",
    "    "
   ]
  },
  {
   "cell_type": "code",
   "execution_count": 32,
   "metadata": {},
   "outputs": [
    {
     "data": {
      "text/plain": [
       "'Root A D G E B C F H I'"
      ]
     },
     "execution_count": 32,
     "metadata": {},
     "output_type": "execute_result"
    }
   ],
   "source": [
    "# verify function above works on Nanary node, Nana\n",
    "traverse_preorder_nanary(Nana,answer_list=None)"
   ]
  },
  {
   "cell_type": "code",
   "execution_count": 33,
   "metadata": {},
   "outputs": [
    {
     "data": {
      "text/plain": [
       "'Root A D G E B C F H I'"
      ]
     },
     "execution_count": 33,
     "metadata": {},
     "output_type": "execute_result"
    }
   ],
   "source": [
    "# verify Nanary class method traverse_preorder\n",
    "Nana.traverse_preorder()"
   ]
  },
  {
   "cell_type": "code",
   "execution_count": 34,
   "metadata": {},
   "outputs": [],
   "source": [
    "def traverse_postorder_nanary(root_node,answer_list=None):\n",
    "    \n",
    "    # create a new list if answer_list == None, i.e. no list passed as argument\n",
    "    if answer_list == None:\n",
    "        answer_list = []\n",
    "        \n",
    "    if len(root_node.children) > 0:\n",
    "            for child in root_node.children:\n",
    "                traverse_postorder_nanary(child,answer_list)               \n",
    "    \n",
    "    if isinstance(root_node, NanaryNode):\n",
    "        answer_list.append(str(root_node.value))\n",
    "                \n",
    "    # join the strings in answer_list into one multiline string with whitespace\n",
    "    answer = ' '.join(answer_list)\n",
    "\n",
    "    return answer"
   ]
  },
  {
   "cell_type": "code",
   "execution_count": 35,
   "metadata": {},
   "outputs": [
    {
     "data": {
      "text/plain": [
       "'G D E A B H I F C Root'"
      ]
     },
     "execution_count": 35,
     "metadata": {},
     "output_type": "execute_result"
    }
   ],
   "source": [
    "traverse_postorder_nanary(Nana,answer_list=None)"
   ]
  },
  {
   "cell_type": "code",
   "execution_count": 36,
   "metadata": {},
   "outputs": [
    {
     "data": {
      "text/plain": [
       "'G D E A B H I F C Root'"
      ]
     },
     "execution_count": 36,
     "metadata": {},
     "output_type": "execute_result"
    }
   ],
   "source": [
    "# verify Nanary class method traverse_postorder()\n",
    "Nana.traverse_postorder()"
   ]
  },
  {
   "cell_type": "code",
   "execution_count": 37,
   "metadata": {},
   "outputs": [],
   "source": [
    "def transverse_breadth_first_nanary(root_node):\n",
    "    \n",
    "    queue = []\n",
    "    visited = []\n",
    "    queue.append(root_node)\n",
    "    \n",
    "    while len(queue) > 0:\n",
    "        \n",
    "        cur_node = queue.pop(0)\n",
    "        visited.append(cur_node)\n",
    "        if len(cur_node.children)>0:\n",
    "            queue.extend(cur_node.children)\n",
    "        \n",
    "    nodes = [item.value for item in visited]\n",
    "    # print(*nodes)\n",
    "    return ' '.join(nodes)\n",
    "    "
   ]
  },
  {
   "cell_type": "code",
   "execution_count": null,
   "metadata": {},
   "outputs": [],
   "source": []
  },
  {
   "cell_type": "code",
   "execution_count": 38,
   "metadata": {},
   "outputs": [
    {
     "data": {
      "text/plain": [
       "'Root A B C D E F G H I'"
      ]
     },
     "execution_count": 38,
     "metadata": {},
     "output_type": "execute_result"
    }
   ],
   "source": [
    "transverse_breadth_first_nanary(Nana)"
   ]
  },
  {
   "cell_type": "code",
   "execution_count": 39,
   "metadata": {},
   "outputs": [
    {
     "data": {
      "text/plain": [
       "'Root A B C D E F G H I'"
      ]
     },
     "execution_count": 39,
     "metadata": {},
     "output_type": "execute_result"
    }
   ],
   "source": [
    "Nana.transverse_breadth_first()"
   ]
  },
  {
   "cell_type": "markdown",
   "metadata": {},
   "source": [
    "## Verify Results for Nanary traverse functions"
   ]
  },
  {
   "cell_type": "code",
   "execution_count": 40,
   "metadata": {},
   "outputs": [],
   "source": [
    "# results should look like the following for traverse functions using Nana node \n",
    "#Preorder:      Root A D G E B C F H I\n",
    "#Postorder:     G D E A B H I F C Root\n",
    "#Breadth-First: Root A B C D E F G H I"
   ]
  },
  {
   "cell_type": "code",
   "execution_count": 41,
   "metadata": {},
   "outputs": [
    {
     "name": "stdout",
     "output_type": "stream",
     "text": [
      "Preorder:  Root A D G E B C F H I\n",
      "Postorder: G D E A B H I F C Root\n",
      "Breadth_First: Root A B C D E F G H I\n"
     ]
    }
   ],
   "source": [
    "print('Preorder:  '+ traverse_preorder_nanary(Nana))\n",
    "print('Postorder: '+ traverse_postorder_nanary(Nana))\n",
    "print('Breadth_First: '+ transverse_breadth_first_nanary(Nana))"
   ]
  },
  {
   "cell_type": "code",
   "execution_count": null,
   "metadata": {},
   "outputs": [],
   "source": []
  }
 ],
 "metadata": {
  "kernelspec": {
   "display_name": "Python 3",
   "language": "python",
   "name": "python3"
  },
  "language_info": {
   "codemirror_mode": {
    "name": "ipython",
    "version": 3
   },
   "file_extension": ".py",
   "mimetype": "text/x-python",
   "name": "python",
   "nbconvert_exporter": "python",
   "pygments_lexer": "ipython3",
   "version": "3.6.10"
  }
 },
 "nbformat": 4,
 "nbformat_minor": 4
}
